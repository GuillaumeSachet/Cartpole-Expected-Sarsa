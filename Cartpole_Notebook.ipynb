{
 "cells": [
  {
   "cell_type": "code",
   "execution_count": null,
   "metadata": {
    "ExecuteTime": {
     "end_time": "2020-06-25T11:07:59.063155Z",
     "start_time": "2020-06-25T11:07:56.304533Z"
    }
   },
   "outputs": [],
   "source": [
    "from deep_expected_sarsa_agent import DeepExpectedSarsaAgent\n",
    "from models import DenseModel\n",
    "from gym_runner import GymRunner\n",
    "\n",
    "import matplotlib.pyplot as plt"
   ]
  },
  {
   "cell_type": "code",
   "execution_count": null,
   "metadata": {
    "ExecuteTime": {
     "end_time": "2020-06-25T11:08:00.402241Z",
     "start_time": "2020-06-25T11:07:59.084099Z"
    }
   },
   "outputs": [],
   "source": [
    "agent_parameters = {\n",
    "    'num_actions' : 2,\n",
    "    'model' : DenseModel,\n",
    "    'replay_buffer_size': 10000,\n",
    "    'gamma': 0.99,\n",
    "    'tau' : 1\n",
    "}\n",
    "\n",
    "model_parameters = {\n",
    "    'input_dim' : 4,\n",
    "    'output_dim' : 2,\n",
    "    'neurons' : [64,64],\n",
    "    'learning_rate': 0.001,\n",
    "    'beta_1': 0.9,\n",
    "    'beta_2': 0.999,\n",
    "    'epsilon': 1e-8\n",
    "}\n",
    "\n",
    "# Create agent with parameters\n",
    "agent = DeepExpectedSarsaAgent(agent_parameters,model_parameters)"
   ]
  },
  {
   "cell_type": "markdown",
   "metadata": {},
   "source": [
    "Load weights if you don't want to train yourself :"
   ]
  },
  {
   "cell_type": "code",
   "execution_count": null,
   "metadata": {
    "ExecuteTime": {
     "end_time": "2020-06-23T13:51:08.619644Z",
     "start_time": "2020-06-23T13:51:08.525891Z"
    }
   },
   "outputs": [],
   "source": [
    "agent.load_weights('./weights/CartPole_v1/64_64/CartPole_v1')"
   ]
  },
  {
   "cell_type": "markdown",
   "metadata": {},
   "source": [
    "Or train some episodes that will render every render_freq if monitor is True. The video will appear in \"result/CartPole-v1/64_64\""
   ]
  },
  {
   "cell_type": "code",
   "execution_count": null,
   "metadata": {
    "ExecuteTime": {
     "end_time": "2020-06-25T11:39:48.676281Z",
     "start_time": "2020-06-25T11:08:54.513788Z"
    },
    "scrolled": true
   },
   "outputs": [],
   "source": [
    "runner = GymRunner('CartPole-v1','result/CartPole-v1/64_64')\n",
    "history = runner.train(agent, num_episodes = 300, batch_size = 64, num_replay = 10,\n",
    "             monitor = True, render_freq = 100)\n",
    "runner.close()\n",
    "\n",
    "plt.plot(history)"
   ]
  },
  {
   "cell_type": "markdown",
   "metadata": {},
   "source": [
    "You can simply run it 1 episode lasting 500 ticks to see it in action and save it in \"result/CartPole-v1/64_64\" if you want."
   ]
  },
  {
   "cell_type": "code",
   "execution_count": null,
   "metadata": {
    "ExecuteTime": {
     "end_time": "2020-06-24T17:41:00.822792Z",
     "start_time": "2020-06-24T17:40:22.187082Z"
    }
   },
   "outputs": [],
   "source": [
    "runner = GymRunner('CartPole-v1',\n",
    "                   'result/CartPole-v1/64_64')\n",
    "runner.run(agent, 1, 500, save = False)\n",
    "runner.close()"
   ]
  },
  {
   "cell_type": "markdown",
   "metadata": {},
   "source": [
    "Save weights if you trained it after 300 episodes"
   ]
  },
  {
   "cell_type": "code",
   "execution_count": null,
   "metadata": {
    "ExecuteTime": {
     "end_time": "2020-06-25T13:02:35.062557Z",
     "start_time": "2020-06-25T13:02:34.754738Z"
    }
   },
   "outputs": [],
   "source": [
    "agent.save_weights('./weights/CartPole_v1/64_64/CartPole_v1')"
   ]
  },
  {
   "cell_type": "code",
   "execution_count": null,
   "metadata": {},
   "outputs": [],
   "source": []
  }
 ],
 "metadata": {
  "kernelspec": {
   "display_name": "Python [conda env:tf-gpu]",
   "language": "python",
   "name": "conda-env-tf-gpu-py"
  },
  "language_info": {
   "codemirror_mode": {
    "name": "ipython",
    "version": 3
   },
   "file_extension": ".py",
   "mimetype": "text/x-python",
   "name": "python",
   "nbconvert_exporter": "python",
   "pygments_lexer": "ipython3",
   "version": "3.7.7"
  },
  "varInspector": {
   "cols": {
    "lenName": 16,
    "lenType": 16,
    "lenVar": 40
   },
   "kernels_config": {
    "python": {
     "delete_cmd_postfix": "",
     "delete_cmd_prefix": "del ",
     "library": "var_list.py",
     "varRefreshCmd": "print(var_dic_list())"
    },
    "r": {
     "delete_cmd_postfix": ") ",
     "delete_cmd_prefix": "rm(",
     "library": "var_list.r",
     "varRefreshCmd": "cat(var_dic_list()) "
    }
   },
   "oldHeight": 513.181818,
   "position": {
    "height": "535px",
    "left": "1695.98px",
    "right": "20px",
    "top": "104.983px",
    "width": "520.128px"
   },
   "types_to_exclude": [
    "module",
    "function",
    "builtin_function_or_method",
    "instance",
    "_Feature"
   ],
   "varInspector_section_display": "block",
   "window_display": false
  }
 },
 "nbformat": 4,
 "nbformat_minor": 2
}
